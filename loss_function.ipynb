{
  "nbformat": 4,
  "nbformat_minor": 0,
  "metadata": {
    "colab": {
      "provenance": [],
      "mount_file_id": "1MaK5CTh17w49QilNnOIG8tFI_3Un9rGW",
      "authorship_tag": "ABX9TyPtyorscR60W8etx4lFIQOQ",
      "include_colab_link": true
    },
    "kernelspec": {
      "name": "python3",
      "display_name": "Python 3"
    },
    "language_info": {
      "name": "python"
    }
  },
  "cells": [
    {
      "cell_type": "markdown",
      "metadata": {
        "id": "view-in-github",
        "colab_type": "text"
      },
      "source": [
        "<a href=\"https://colab.research.google.com/github/VanThiKimKhanh1203/C-C-THU-T-TO-N-T-I-U-CHO-PTDL_2023/blob/main/loss_function.ipynb\" target=\"_parent\"><img src=\"https://colab.research.google.com/assets/colab-badge.svg\" alt=\"Open In Colab\"/></a>"
      ]
    },
    {
      "cell_type": "markdown",
      "source": [
        "**logisticsregres_vayvon.csv**"
      ],
      "metadata": {
        "id": "MasZ1GzZqEBp"
      }
    },
    {
      "cell_type": "code",
      "execution_count": null,
      "metadata": {
        "id": "8I_KLIuwoeoZ"
      },
      "outputs": [],
      "source": [
        "import os\n",
        "import numpy as np\n",
        "from matplotlib import pyplot as plt"
      ]
    },
    {
      "cell_type": "code",
      "source": [
        "def calculateLoss(X, y, w):\n",
        "    folder = \"/content/drive/MyDrive\"\n",
        "    filename = \"logisticsregres_vayvon.txt\"\n",
        "    data = np.loadtxt(os.path.join(folder, filename), delimiter=',')\n",
        "    X = data[:,0]\n",
        "    y = data[:,1]\n",
        "    m = y.shape[0]\n",
        "    J = 0\n",
        "    h = np.dot(X, w)\n",
        "    J = (1/(2*m))*np.sum(np.square(h - y))\n",
        "    print(\"calculate loss = \",J)\n",
        "    return J"
      ],
      "metadata": {
        "id": "du0Nr1HWooIQ"
      },
      "execution_count": null,
      "outputs": []
    },
    {
      "cell_type": "code",
      "source": [
        "def main():\n",
        "    X, y = (\"/content/drive/MyDrive/CÁC THUẬT TOÁN TỐI ƯU CHO PTDL K2/logisticsregres_vayvon.txt\")\n",
        "    w = np.zeros(97)\n",
        "    calculateLoss(X, y, w)\n",
        "\n",
        "if __name__ == '__main__':\n",
        "    main()\n",
        ""
      ],
      "metadata": {
        "id": "yR7saKNioqfG"
      },
      "execution_count": null,
      "outputs": []
    }
  ]
}
